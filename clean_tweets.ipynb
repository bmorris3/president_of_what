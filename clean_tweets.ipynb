{
 "cells": [
  {
   "cell_type": "markdown",
   "metadata": {},
   "source": [
    "# Clean Trump's tweets. \n",
    "\n",
    "Tall task, I know.\n",
    "\n",
    "We'll remove retweets, URLs, @mentions, hashtags, special characters, extra whitespace (but let the record show: he's good at generating whitespace); we'll replace \"&\" for \"and\", and \"w/\" for \"with\".\n",
    "\n",
    "#### But first:\n",
    "Grab the emoji library:\n",
    "```\n",
    "pip install emoji\n",
    "```"
   ]
  },
  {
   "cell_type": "code",
   "execution_count": 1,
   "metadata": {
    "collapsed": true,
    "deletable": true,
    "editable": true
   },
   "outputs": [],
   "source": [
    "import calendar\n",
    "from datetime import datetime\n",
    "import json\n",
    "import re\n",
    "import emoji"
   ]
  },
  {
   "cell_type": "code",
   "execution_count": 2,
   "metadata": {
    "collapsed": true,
    "deletable": true,
    "editable": true
   },
   "outputs": [],
   "source": [
    "out_file_path = 'cleaned_tweets.json'"
   ]
  },
  {
   "cell_type": "code",
   "execution_count": 6,
   "metadata": {
    "collapsed": true,
    "deletable": true,
    "editable": true
   },
   "outputs": [],
   "source": [
    "month_to_int = {v: k for k, v in enumerate(calendar.month_abbr)}\n",
    "\n",
    "def remove_special_chars(s):\n",
    "    remove_emojis = ''.join(c for c in s \n",
    "                            if c not in emoji.UNICODE_EMOJI)\n",
    "    # Catch missed emoji:\n",
    "    remove_nonalphanum = re.sub('[^a-zA-Z0-9 \\n\\.]', '', \n",
    "                                remove_emojis)\n",
    "    remove_extra_whitespace = \" \".join(remove_nonalphanum.split())\n",
    "    return remove_extra_whitespace\n",
    "\n",
    "def clean_tweet(tweet_text):\n",
    "    \"\"\"\n",
    "    Clean a tweet's text. \n",
    "    \n",
    "    Remove links, @-mentions, hashtags; replace\n",
    "    \"&\" and \"w/\" with \"and\" and \"with\".\n",
    "    \"\"\"\n",
    "    no_links = re.sub(r'http\\S+', '', tweet_text)\n",
    "    no_tags = re.sub(r'@\\S+', '', no_links)\n",
    "    nohashtags = re.sub(r'#\\S+', '', no_tags)\n",
    "    replace_ampersand = re.sub(r'&amp;', 'and', nohashtags)\n",
    "    replace_with = re.sub(r'w/', 'with', replace_ampersand)\n",
    "\n",
    "    replace_dquotes = re.sub(r'\\\"', '', replace_ampersand)\n",
    "    replace_quotes = re.sub(r\"\\'\", '', replace_dquotes)\n",
    "\n",
    "    cleaned_text = remove_special_chars(replace_quotes)\n",
    "    \n",
    "    if not cleaned_text.endswith('.'):\n",
    "        cleaned_text += '.'\n",
    "    \n",
    "    return cleaned_text\n",
    "\n",
    "def longdate_to_timestamp(longdate):\n",
    "    split_date = longdate.split()\n",
    "    split_time = split_date[3].split(':')\n",
    "    hours = int(split_time[0])\n",
    "    mins = int(split_time[1])\n",
    "    secs = int(split_time[2])\n",
    "    month = month_to_int[split_date[1]]\n",
    "    dt = datetime(int(split_date[-1]), month, int(split_date[2]), \n",
    "                  hours, mins, secs)\n",
    "    timestamp = dt.timestamp()\n",
    "    return float(timestamp)\n",
    "\n",
    "cleaned_dictionary = dict()"
   ]
  },
  {
   "cell_type": "code",
   "execution_count": 7,
   "metadata": {
    "collapsed": true,
    "deletable": true,
    "editable": true
   },
   "outputs": [],
   "source": [
    "tweets = json.load(open('trump_tweets.txt'))\n",
    "not_retweets = [tweet for tweet in tweets if not tweet['is_retweet']]"
   ]
  },
  {
   "cell_type": "code",
   "execution_count": 8,
   "metadata": {
    "collapsed": true,
    "deletable": true,
    "editable": true
   },
   "outputs": [],
   "source": [
    "for i in range(len(not_retweets)):\n",
    "    tweet_text = not_retweets[i]['text']\n",
    "    raw_date = not_retweets[i]['created_at']\n",
    "    \n",
    "    cleaned_tweet = clean_tweet(tweet_text)\n",
    "    \n",
    "    ts = longdate_to_timestamp(raw_date)\n",
    "    \n",
    "    if len(cleaned_tweet) > 1:\n",
    "        cleaned_dictionary[ts] = cleaned_tweet\n",
    "    \n",
    "json.dump(cleaned_dictionary, open(out_file_path, 'w'), indent=4)"
   ]
  },
  {
   "cell_type": "code",
   "execution_count": null,
   "metadata": {
    "collapsed": true
   },
   "outputs": [],
   "source": []
  }
 ],
 "metadata": {
  "kernelspec": {
   "display_name": "Python 3",
   "language": "python",
   "name": "python3"
  },
  "language_info": {
   "codemirror_mode": {
    "name": "ipython",
    "version": 3
   },
   "file_extension": ".py",
   "mimetype": "text/x-python",
   "name": "python",
   "nbconvert_exporter": "python",
   "pygments_lexer": "ipython3",
   "version": "3.5.4"
  }
 },
 "nbformat": 4,
 "nbformat_minor": 0
}
