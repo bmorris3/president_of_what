{
 "cells": [
  {
   "cell_type": "markdown",
   "metadata": {
    "deletable": true,
    "editable": true
   },
   "source": [
    "# What reading grade level is required for each Trump tweet?\n",
    "\n",
    "Some prep: \n",
    "```\n",
    "pip install pandas\n",
    "pip install textstat\n",
    "```\n",
    "\n",
    "#### Future work: \n",
    "Tutorial on the [Naive Bayes Classifier in NLTK](https://www.twilio.com/blog/2017/09/sentiment-analysis-python-messy-data-nltk.html)\n",
    "\n",
    "[Sentiment analysis database](https://github.com/vineetdhanawat/twitter-sentiment-analysis)"
   ]
  },
  {
   "cell_type": "code",
   "execution_count": 33,
   "metadata": {
    "collapsed": true,
    "deletable": true,
    "editable": true
   },
   "outputs": [],
   "source": [
    "%matplotlib inline\n",
    "import matplotlib.pyplot as plt\n",
    "import pandas as pd\n",
    "from textstat.textstat import textstat\n",
    "import numpy as np\n",
    "\n",
    "from datetime import datetime\n",
    "import json"
   ]
  },
  {
   "cell_type": "code",
   "execution_count": 34,
   "metadata": {
    "collapsed": false,
    "deletable": true,
    "editable": true
   },
   "outputs": [
    {
     "name": "stdout",
     "output_type": "stream",
     "text": [
      "Median grade level: 3.8\n"
     ]
    }
   ],
   "source": [
    "import time\n",
    "\n",
    "def decimal_year(timestamp):\n",
    "    \n",
    "    date = datetime.fromtimestamp(timestamp)\n",
    "    \n",
    "    def since_epoch(date): # returns seconds since epoch\n",
    "        return time.mktime(date.timetuple())\n",
    "\n",
    "    year = date.year\n",
    "    start_of_this_year = datetime(year=year, month=1, day=1)\n",
    "    start_of_next_year = datetime(year=year+1, month=1, day=1)\n",
    "\n",
    "    year_elapsed = since_epoch(date) - since_epoch(start_of_this_year)\n",
    "    year_duration = since_epoch(start_of_next_year) - since_epoch(start_of_this_year)\n",
    "    fraction = year_elapsed / year_duration\n",
    "\n",
    "    return date.year + fraction\n",
    "\n",
    "def grade_level(tweet):\n",
    "    grade_level_metrics = [\n",
    "        textstat.flesch_kincaid_grade(tweet),\n",
    "        textstat.coleman_liau_index(tweet),\n",
    "        textstat.automated_readability_index(tweet),\n",
    "        textstat.linsear_write_formula(tweet),\n",
    "        textstat.gunning_fog(tweet)\n",
    "    ]\n",
    "    return np.median(grade_level_metrics)\n",
    "\n",
    "s = \"\"\"I had to fire General Flynn because he lied to the Vice President \n",
    "and the FBI. He has pled guilty to those lies. It is a shame because \n",
    "his actions during the transition were lawful. There was nothing to \n",
    "hide!\"\"\"\n",
    "\n",
    "print('Median grade level: {0}'.format(grade_level(s)))"
   ]
  },
  {
   "cell_type": "code",
   "execution_count": 35,
   "metadata": {
    "collapsed": false,
    "deletable": true,
    "editable": true
   },
   "outputs": [],
   "source": [
    "tweets = json.loads(open('cleaned_tweets.json').read())"
   ]
  },
  {
   "cell_type": "code",
   "execution_count": 36,
   "metadata": {
    "collapsed": false,
    "deletable": true,
    "editable": true
   },
   "outputs": [],
   "source": [
    "year = []\n",
    "grade = []\n",
    "\n",
    "for i, timestamp in enumerate(tweets):\n",
    "    if len(tweets[timestamp]) > 1:\n",
    "        year.append(decimal_year(timestamp))\n",
    "        grade.append(grade_level(tweets[timestamp]))"
   ]
  },
  {
   "cell_type": "code",
   "execution_count": 37,
   "metadata": {
    "collapsed": true,
    "deletable": true,
    "editable": true
   },
   "outputs": [],
   "source": [
    "year = np.array(year)\n",
    "grade = np.array(grade)"
   ]
  },
  {
   "cell_type": "code",
   "execution_count": 38,
   "metadata": {
    "collapsed": false,
    "deletable": true,
    "editable": true
   },
   "outputs": [],
   "source": [
    "df = pd.DataFrame(data=np.vstack([year, grade]).T, columns=['year', 'grade'])\n",
    "df.set_index('year');"
   ]
  },
  {
   "cell_type": "code",
   "execution_count": 39,
   "metadata": {
    "collapsed": false,
    "deletable": true,
    "editable": true
   },
   "outputs": [
    {
     "data": {
      "text/plain": [
       "[<matplotlib.lines.Line2D at 0x10fcd3630>]"
      ]
     },
     "execution_count": 39,
     "metadata": {},
     "output_type": "execute_result"
    },
    {
     "data": {
      "image/png": "[encoded data removed]",
      "text/plain": [
       "<matplotlib.figure.Figure at 0x10e42e668>"
      ]
     },
     "metadata": {},
     "output_type": "display_data"
    }
   ],
   "source": [
    "from scipy.stats import binned_statistic\n",
    "\n",
    "bs = binned_statistic(year, grade, bins=np.linspace(min(year), max(year), 10), \n",
    "                      statistic='median')\n",
    "bin_centers = 0.5 * (bs.bin_edges[1:] + bs.bin_edges[:-1])\n",
    "medians = bs.statistic\n",
    "\n",
    "plt.plot(bin_centers, medians)"
   ]
  },
  {
   "cell_type": "code",
   "execution_count": 40,
   "metadata": {
    "collapsed": false,
    "deletable": true,
    "editable": true
   },
   "outputs": [],
   "source": [
    "histograms = []\n",
    "\n",
    "year_bins = np.arange(int(min(year)), int(max(year))+1, 0.5)\n",
    "year_bin_centers = 0.5*(year_bins[1:] + year_bins[:-1])\n",
    "grade_bins = np.arange(0, 21)\n",
    "tweet_count = []\n",
    "\n",
    "for i in range(len(year_bins) - 1):\n",
    "    within_bin = ((year < year_bins[i+1]) & \n",
    "                  (year > year_bins[i]))\n",
    "    tweet_count.append(np.count_nonzero(within_bin))\n",
    "    hist = np.histogram(grade[within_bin], bins=grade_bins, normed=True)[0]\n",
    "    \n",
    "    histograms.append(hist)\n",
    "histograms = np.array(histograms).T"
   ]
  },
  {
   "cell_type": "code",
   "execution_count": 41,
   "metadata": {
    "collapsed": false,
    "deletable": true,
    "editable": true
   },
   "outputs": [
    {
     "data": {
      "image/png": "[encoded data removed]",
      "text/plain": [
       "<matplotlib.figure.Figure at 0x10f77b390>"
      ]
     },
     "metadata": {},
     "output_type": "display_data"
    },
    {
     "data": {
      "image/png": "[encoded data removed]",
      "text/plain": [
       "<matplotlib.figure.Figure at 0x10fd747f0>"
      ]
     },
     "metadata": {},
     "output_type": "display_data"
    }
   ],
   "source": [
    "from matplotlib import ticker\n",
    "from matplotlib import gridspec\n",
    "\n",
    "half_year_bin = 0.5*(year_bins[1] - year_bins[0])\n",
    "extent = [min(year), max(year), \n",
    "          min(grade_bins)-0.5, max(grade_bins)-0.5]\n",
    "\n",
    "fig, ax = plt.subplots(1, 1, figsize=(4, 4))\n",
    "\n",
    "im = ax.imshow(histograms, origin='lower', vmin=0, vmax=0.15, \n",
    "                  extent=extent, aspect=0.4)\n",
    "ax.set_xticks(np.arange(2010, 2018))\n",
    "plt.setp(ax.get_xticklabels(), rotation=30, ha='right')\n",
    "ax.set_yticks(grade_bins[::2])\n",
    "ax.set_ylabel('Tweet grade-level')\n",
    "ax.set_xlabel('Year')\n",
    "fig.savefig('plots/tweet_grade_level.png', dpi=200, bbox_inches='tight')\n",
    "\n",
    "cbar = plt.colorbar(im, fraction=0.044, pad=0.04)\n",
    "\n",
    "cbar.set_ticks(np.array(cbar.get_ticks()).astype(float))\n",
    "cbar.set_ticklabels(list(map(\"{0:.0f}%\".format, \n",
    "                             np.array(cbar.get_ticks()).astype(float) * 100)))\n",
    "cbar.set_label('Fraction of tweets')\n",
    "\n",
    "fig, ax = plt.subplots(1, 1, figsize=(4, 4))\n",
    "\n",
    "ax.plot(year_bin_centers, tweet_count)\n",
    "ax.set_ylabel('# tweets')\n",
    "\n",
    "ax.yaxis.set_major_formatter(ticker.FormatStrFormatter(\"%d\"))\n",
    "ax.set_xlim([min(year), max(year)])\n",
    "ax.grid(ls='--', alpha=0.4)\n",
    "fig.subplots_adjust(left=None, bottom=None, right=None, top=None,\n",
    "                    wspace=None, hspace=0.05)\n",
    "\n",
    "plt.show()"
   ]
  },
  {
   "cell_type": "code",
   "execution_count": 42,
   "metadata": {
    "collapsed": false,
    "deletable": true,
    "editable": true
   },
   "outputs": [
    {
     "data": {
      "image/png": "[encoded data removed]",
      "text/plain": [
       "<matplotlib.figure.Figure at 0x119efb8d0>"
      ]
     },
     "metadata": {},
     "output_type": "display_data"
    }
   ],
   "source": [
    "year_bins = np.arange(2016, 2018, 0.1)\n",
    "grade_bins = np.arange(0, 21)\n",
    "\n",
    "histograms = []\n",
    "for i in range(len(year_bins) - 1):\n",
    "    within_bin = ((year < year_bins[i+1]) & \n",
    "                  (year > year_bins[i]))\n",
    "    hist = np.histogram(grade[within_bin], bins=grade_bins, normed=True)[0]\n",
    "    \n",
    "    histograms.append(hist)\n",
    "histograms = np.array(histograms).T\n",
    "\n",
    "half_year_bin = 0.5*(year_bins[1] - year_bins[0])\n",
    "extent = [min(year_bins), max(year_bins), \n",
    "          min(grade_bins)-0.5, max(grade_bins)-0.5]\n",
    "\n",
    "fig, ax = plt.subplots(figsize=(5, 5))\n",
    "ax.imshow(histograms, origin='lower', vmin=0, vmax=0.14, \n",
    "          extent=extent, aspect=0.1)\n",
    "ax.set_xticks(np.arange(min(year_bins), max(year_bins)+1))\n",
    "plt.setp(ax.get_xticklabels(), rotation=30, ha='right')\n",
    "ax.set_yticks(grade_bins[::2])\n",
    "ax.set_ylabel('Tweet grade-level')\n",
    "ax.set_xlabel('Year');"
   ]
  },
  {
   "cell_type": "markdown",
   "metadata": {
    "collapsed": true,
    "deletable": true,
    "editable": true
   },
   "source": [
    "# We all know...\n",
    "\n",
    "that Trump watches Fox and Friends. Let's see if his vocabulary changes when watching his favorite entertainment."
   ]
  },
  {
   "cell_type": "code",
   "execution_count": 43,
   "metadata": {
    "collapsed": true
   },
   "outputs": [],
   "source": [
    "timestamps = [k for k in tweets]"
   ]
  },
  {
   "cell_type": "code",
   "execution_count": 84,
   "metadata": {
    "collapsed": false
   },
   "outputs": [],
   "source": [
    "import pytz\n",
    "\n",
    "native_timezone = pytz.timezone('GMT')\n",
    "trump_timezone = pytz.timezone('US/Eastern')\n",
    "\n",
    "localize = lambda t: datetime.fromtimestamp(float(t), tz=trump_timezone).replace(tzinfo=None)\n",
    "\n",
    "localized_dts = [localize(t) for t in timestamps]"
   ]
  },
  {
   "cell_type": "code",
   "execution_count": 93,
   "metadata": {
    "collapsed": true
   },
   "outputs": [],
   "source": [
    "during_faf = [(dt.hour <= 9) and (dt.hour >= 6) and dt.weekday() \n",
    "              for dt in localized_dts]"
   ]
  },
  {
   "cell_type": "code",
   "execution_count": 100,
   "metadata": {
    "collapsed": false
   },
   "outputs": [
    {
     "name": "stdout",
     "output_type": "stream",
     "text": [
      "There are 2550 tweets during Fox and Friends\n"
     ]
    }
   ],
   "source": [
    "tweets_during_faf = {key: tweets[key] for i, key in enumerate(tweets) \n",
    "                     if during_faf[i]}\n",
    "tweets_not_during_faf = {key: tweets[key] for i, key in enumerate(tweets) \n",
    "                         if not during_faf[i]}\n",
    "\n",
    "print('There are {0} tweets during Fox and Friends'.format(len(tweets_during_faf)))"
   ]
  },
  {
   "cell_type": "code",
   "execution_count": 99,
   "metadata": {
    "collapsed": false
   },
   "outputs": [
    {
     "data": {
      "text/plain": [
       "(2550, 29345)"
      ]
     },
     "execution_count": 99,
     "metadata": {},
     "output_type": "execute_result"
    }
   ],
   "source": [
    "len(tweets_during_faf), len(tweets_not_during_faf)"
   ]
  },
  {
   "cell_type": "code",
   "execution_count": 102,
   "metadata": {
    "collapsed": false
   },
   "outputs": [],
   "source": [
    "grade_faf = np.array([grade_level(tweets[timestamp]) \n",
    "                      for timestamp in tweets_during_faf])\n",
    "grade_not_faf = np.array([grade_level(tweets[timestamp]) \n",
    "                         for timestamp in tweets_not_during_faf])"
   ]
  },
  {
   "cell_type": "code",
   "execution_count": null,
   "metadata": {
    "collapsed": true
   },
   "outputs": [],
   "source": [
    "plt.hist(grade_faf)\n",
    "plt.hist(grade_not_faf)"
   ]
  }
 ],
 "metadata": {
  "kernelspec": {
   "display_name": "Python 3",
   "language": "python",
   "name": "python3"
  },
  "language_info": {
   "codemirror_mode": {
    "name": "ipython",
    "version": 3
   },
   "file_extension": ".py",
   "mimetype": "text/x-python",
   "name": "python",
   "nbconvert_exporter": "python",
   "pygments_lexer": "ipython3",
   "version": "3.5.4"
  }
 },
 "nbformat": 4,
 "nbformat_minor": 0
}
